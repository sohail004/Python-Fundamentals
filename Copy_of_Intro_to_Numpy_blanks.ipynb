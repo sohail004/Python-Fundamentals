{
  "nbformat": 4,
  "nbformat_minor": 0,
  "metadata": {
    "colab": {
      "name": "Copy of Intro_to_Numpy_blanks.ipynb",
      "provenance": [],
      "collapsed_sections": [],
      "toc_visible": true,
      "include_colab_link": true
    },
    "kernelspec": {
      "name": "python3",
      "display_name": "Python 3",
      "language": "python"
    },
    "language_info": {
      "mimetype": "text/x-python",
      "nbconvert_exporter": "python",
      "name": "python",
      "pygments_lexer": "ipython3",
      "version": "3.5.4",
      "file_extension": ".py",
      "codemirror_mode": {
        "version": 3,
        "name": "ipython"
      }
    }
  },
  "cells": [
    {
      "cell_type": "markdown",
      "metadata": {
        "id": "view-in-github",
        "colab_type": "text"
      },
      "source": [
        "<a href=\"https://colab.research.google.com/github/sohail004/Python-for-Data-Science/blob/main/Copy_of_Intro_to_Numpy_blanks.ipynb\" target=\"_parent\"><img src=\"https://colab.research.google.com/assets/colab-badge.svg\" alt=\"Open In Colab\"/></a>"
      ]
    },
    {
      "cell_type": "markdown",
      "metadata": {
        "id": "cgYmmWkLkkYg"
      },
      "source": [
        "Copyright 2021, Zaka AI, Inc. All Rights Reserved."
      ]
    },
    {
      "cell_type": "markdown",
      "metadata": {
        "id": "zxS5uRloJuS0"
      },
      "source": [
        "# Introduction to Numpy\n",
        "---\n",
        "\n",
        "**Objective:**\n",
        "\n",
        "In this exercise, you will be covering basics of a  very useful library in Python called Numpy(*Numerical Python is fundamental for scientific computations in python*. Numpy is the core library for scientific computing in Python. It provides a high-performance multidimensional array object, and tools for working with these arrays.\n",
        "\n",
        "Source found [here](http://cs231n.github.io/python-numpy-tutorial/).\n"
      ]
    },
    {
      "cell_type": "code",
      "metadata": {
        "id": "_1B4PXrzZ1q9",
        "trusted": true
      },
      "source": [
        "#importing Numpy library\n",
        "import numpy as np"
      ],
      "execution_count": null,
      "outputs": []
    },
    {
      "cell_type": "markdown",
      "metadata": {
        "id": "LeDeOGaQaBQi"
      },
      "source": [
        "## Arrays\n",
        "A numpy array is a grid of values, all of the same type, and is indexed by a tuple of nonnegative integers. The number of dimensions is the rank of the array; the shape of an array is a tuple of integers giving the size of the array along each dimension.\n",
        "\n",
        "We can initialize numpy arrays from nested Python lists, and access elements using square brackets:"
      ]
    },
    {
      "cell_type": "code",
      "metadata": {
        "id": "PMe_QkOcaBYp",
        "trusted": true,
        "colab": {
          "base_uri": "https://localhost:8080/"
        },
        "outputId": "6cf23418-c5aa-480a-be6f-58db62bf26ca"
      },
      "source": [
        "# Create a rank 1 array\n",
        "a = np.array( [2,3,5,1,4] )\n",
        "\n",
        "print(type(a))            \n",
        "print(a.shape)           \n",
        "print(a[-1], a[1], a[2])"
      ],
      "execution_count": null,
      "outputs": [
        {
          "output_type": "stream",
          "name": "stdout",
          "text": [
            "<class 'numpy.ndarray'>\n",
            "(5,)\n",
            "4 3 5\n"
          ]
        }
      ]
    },
    {
      "cell_type": "code",
      "metadata": {
        "id": "enIul2LYaV7H",
        "trusted": true,
        "colab": {
          "base_uri": "https://localhost:8080/"
        },
        "outputId": "2910eb8c-c3db-46c0-c5e1-1f7bba737a62"
      },
      "source": [
        "# Change an element of the array\n",
        "a[-1] = 10\n",
        "print(a)                 "
      ],
      "execution_count": null,
      "outputs": [
        {
          "output_type": "stream",
          "name": "stdout",
          "text": [
            "[ 2  3  5  1 10]\n"
          ]
        }
      ]
    },
    {
      "cell_type": "code",
      "metadata": {
        "id": "Sod7zYyDaXA9",
        "trusted": true,
        "colab": {
          "base_uri": "https://localhost:8080/"
        },
        "outputId": "465d863f-7859-4020-c2c6-1e2469335d32"
      },
      "source": [
        "# Create a rank 2 array\n",
        "b = np.array([ [1,2,3],\n",
        "               [4,5,6] ,\n",
        "              [3,7,0]])    \n",
        "\n",
        "print(b.shape)    \n",
        "\n",
        "#print elements 1,2, and 4 in the above array\n",
        "print(b[0,0],b[0,2],b[1,2],b[2,2])"
      ],
      "execution_count": null,
      "outputs": [
        {
          "output_type": "stream",
          "name": "stdout",
          "text": [
            "(3, 3)\n",
            "1 3 6 0\n"
          ]
        }
      ]
    },
    {
      "cell_type": "markdown",
      "metadata": {
        "id": "OAhsVv2faa1e"
      },
      "source": [
        "Numpy also provides many functions to create arrays:"
      ]
    },
    {
      "cell_type": "code",
      "metadata": {
        "id": "TA5DW_eIabEg",
        "trusted": true,
        "colab": {
          "base_uri": "https://localhost:8080/"
        },
        "outputId": "6d3116e7-bdf9-4c1e-dc43-1e0cf05b7c29"
      },
      "source": [
        "# Create a 3x3 array of all zeros\n",
        "a = np.zeros ((3,3))\n",
        "print(a)            "
      ],
      "execution_count": null,
      "outputs": [
        {
          "output_type": "stream",
          "name": "stdout",
          "text": [
            "[[0. 0. 0.]\n",
            " [0. 0. 0.]\n",
            " [0. 0. 0.]]\n"
          ]
        }
      ]
    },
    {
      "cell_type": "code",
      "metadata": {
        "trusted": true,
        "id": "jcrrq4CMSf0C",
        "colab": {
          "base_uri": "https://localhost:8080/"
        },
        "outputId": "7230da47-c6f1-41c8-9ee6-188495609e08"
      },
      "source": [
        "# Create a 1x2 array of all ones\n",
        "b = np.ones ((1,2))\n",
        "print(b)"
      ],
      "execution_count": null,
      "outputs": [
        {
          "output_type": "stream",
          "name": "stdout",
          "text": [
            "[[1. 1.]]\n"
          ]
        }
      ]
    },
    {
      "cell_type": "markdown",
      "metadata": {
        "id": "qvCy1nI1afls"
      },
      "source": [
        "## Array Indexing\n",
        "\n",
        "Numpy offers several ways to index into arrays.\n",
        "\n",
        "Slicing: Similar to Python lists, numpy arrays can be sliced. Since arrays may be multidimensional, you must specify a slice for each dimension of the array:"
      ]
    },
    {
      "cell_type": "code",
      "metadata": {
        "id": "OuXISnSPag2x",
        "trusted": true,
        "colab": {
          "base_uri": "https://localhost:8080/"
        },
        "outputId": "bac41bd7-3438-4d3f-d44e-4f0ffb3c407c"
      },
      "source": [
        "# Create the following rank 2 array with shape (3, 4)\n",
        "# [[ 1  2  3  4]\n",
        "#  [ 5  6  7  8]\n",
        "#  [ 9 10 11 12]]\n",
        "a = np.array([ [1,2,3,4], [5,6,7,8], [9,10,11,12] ])\n",
        "print(a ,a.shape)"
      ],
      "execution_count": null,
      "outputs": [
        {
          "output_type": "stream",
          "name": "stdout",
          "text": [
            "[[ 1  2  3  4]\n",
            " [ 5  6  7  8]\n",
            " [ 9 10 11 12]] (3, 4)\n"
          ]
        }
      ]
    },
    {
      "cell_type": "code",
      "metadata": {
        "trusted": true,
        "id": "JABRSJwLSf0K",
        "colab": {
          "base_uri": "https://localhost:8080/"
        },
        "outputId": "19a34789-3458-4b45-fc0a-8601907d1442"
      },
      "source": [
        "# Use slicing to pull out the subarray consisting of the first 2 rows\n",
        "# and columns 1 and 2; b is the following array of shape (2, 2):\n",
        "# [[2 3]\n",
        "#  [6 7]]\n",
        "b = a[:3 , 1:3]\n",
        "print(b, b.shape)"
      ],
      "execution_count": null,
      "outputs": [
        {
          "output_type": "stream",
          "name": "stdout",
          "text": [
            "[[ 2  3]\n",
            " [ 6  7]\n",
            " [10 11]] (3, 2)\n"
          ]
        }
      ]
    },
    {
      "cell_type": "code",
      "metadata": {
        "trusted": true,
        "id": "l8yQ6HLeSf0N",
        "colab": {
          "base_uri": "https://localhost:8080/"
        },
        "outputId": "14e8af60-aa5e-43f2-b11a-1277e80fb80b"
      },
      "source": [
        "# A slice of an array is a view into the same data, so modifying it\n",
        "# will modify the original array.\n",
        "\n",
        "# b[0, 0] is the same piece of data as a[0, 1]\n",
        "b[2, 0] = 77\n",
        "print(a[0, 1])\n",
        "print(a)"
      ],
      "execution_count": null,
      "outputs": [
        {
          "output_type": "stream",
          "name": "stdout",
          "text": [
            "2\n",
            "[[ 1  2  3  4]\n",
            " [ 5  6  7  8]\n",
            " [ 9 77 11 12]]\n"
          ]
        }
      ]
    },
    {
      "cell_type": "markdown",
      "metadata": {
        "id": "xvKpABL_bgFH"
      },
      "source": [
        "One useful trick with for creating integer arrays is using `arange()` to create an array from numerical ranges:"
      ]
    },
    {
      "cell_type": "code",
      "metadata": {
        "trusted": true,
        "id": "-4pySt7CSf0f",
        "colab": {
          "base_uri": "https://localhost:8080/"
        },
        "outputId": "8b506045-48d5-48f5-ae01-3148a57a8823"
      },
      "source": [
        "#create an array of numbers from 0 to 4 (exclusive)\n",
        "a= np.arange(5)\n",
        "a"
      ],
      "execution_count": null,
      "outputs": [
        {
          "output_type": "execute_result",
          "data": {
            "text/plain": [
              "array([0, 1, 2, 3, 4])"
            ]
          },
          "metadata": {},
          "execution_count": 40
        }
      ]
    },
    {
      "cell_type": "code",
      "metadata": {
        "trusted": true,
        "id": "L1chvB73Sf0h",
        "colab": {
          "base_uri": "https://localhost:8080/"
        },
        "outputId": "dd14b367-f9c6-4abd-d23d-96561ec33b81"
      },
      "source": [
        "b = np.arange(0,15,2)\n",
        "b"
      ],
      "execution_count": null,
      "outputs": [
        {
          "output_type": "execute_result",
          "data": {
            "text/plain": [
              "array([ 0,  2,  4,  6,  8, 10, 12, 14])"
            ]
          },
          "metadata": {},
          "execution_count": 50
        }
      ]
    },
    {
      "cell_type": "markdown",
      "metadata": {
        "id": "WCcvGU6Fb8a4"
      },
      "source": [
        "## Array Math"
      ]
    },
    {
      "cell_type": "code",
      "metadata": {
        "id": "5Rb8mbt9b9fB",
        "trusted": true,
        "colab": {
          "base_uri": "https://localhost:8080/"
        },
        "outputId": "b8b9ef90-4bca-446b-b5f3-9c3fc605dee9"
      },
      "source": [
        "x = np.array([[1,2],[3,4]], dtype=np.float64)\n",
        "y = np.array([[5,6],[7,8]], dtype=np.float64)\n",
        "\n",
        "print(x)\n",
        "print(y)"
      ],
      "execution_count": null,
      "outputs": [
        {
          "output_type": "stream",
          "name": "stdout",
          "text": [
            "[[1. 2.]\n",
            " [3. 4.]]\n",
            "[[5. 6.]\n",
            " [7. 8.]]\n"
          ]
        }
      ]
    },
    {
      "cell_type": "code",
      "metadata": {
        "id": "GuwlnKcdqiAk",
        "colab": {
          "base_uri": "https://localhost:8080/"
        },
        "outputId": "1c07cbad-1b03-4ac0-910a-40c5634bbd08"
      },
      "source": [
        "# Elementwise sum of x and y\n",
        "print(x + y)\n",
        "# OR\n",
        "print(np.add(x, y))"
      ],
      "execution_count": null,
      "outputs": [
        {
          "output_type": "stream",
          "name": "stdout",
          "text": [
            "[[ 6.  8.]\n",
            " [10. 12.]]\n",
            "[[ 6.  8.]\n",
            " [10. 12.]]\n"
          ]
        }
      ]
    },
    {
      "cell_type": "code",
      "metadata": {
        "trusted": true,
        "id": "aBQ0nSUYSf0m",
        "colab": {
          "base_uri": "https://localhost:8080/"
        },
        "outputId": "bf7ab4e8-a159-4cad-ff67-19ee743d6dcf"
      },
      "source": [
        "# Elementwise product of x and y\n",
        "print(x * y)\n",
        "# OR\n",
        "print(np.multiply(x, y))"
      ],
      "execution_count": null,
      "outputs": [
        {
          "output_type": "stream",
          "name": "stdout",
          "text": [
            "[[ 5. 12.]\n",
            " [21. 32.]]\n",
            "[[ 5. 12.]\n",
            " [21. 32.]]\n"
          ]
        }
      ]
    },
    {
      "cell_type": "markdown",
      "metadata": {
        "id": "lDlhyqJXcKg8"
      },
      "source": [
        "Note:\n",
        "\n",
        "(*) is elementwise multiplication, not matrix multiplication. \n",
        "\n",
        "Instead use the (dot function) to compute inner products of vectors, to multiply a vector by a matrix, and to multiply matrices."
      ]
    },
    {
      "cell_type": "code",
      "metadata": {
        "id": "HZE93096cKKk",
        "trusted": true,
        "colab": {
          "base_uri": "https://localhost:8080/"
        },
        "outputId": "a826fb86-c456-4c5b-bc88-20185658573f"
      },
      "source": [
        "x = np.array([[1,2],[3,4]])\n",
        "y = np.array([[5,6],[7,8]])\n",
        "\n",
        "# dot product of x and y\n",
        "print(x.dot(y))\n",
        "# OR\n",
        "#print(np.dot(x,y))"
      ],
      "execution_count": null,
      "outputs": [
        {
          "output_type": "stream",
          "name": "stdout",
          "text": [
            "[[19 22]\n",
            " [43 50]]\n"
          ]
        }
      ]
    },
    {
      "cell_type": "markdown",
      "metadata": {
        "id": "XCOQaNsnSf0r"
      },
      "source": [
        "## Changing Array Dimensions"
      ]
    },
    {
      "cell_type": "code",
      "metadata": {
        "trusted": true,
        "id": "8saYiaDgSf0r",
        "colab": {
          "base_uri": "https://localhost:8080/"
        },
        "outputId": "d3e649c4-29fc-4e0c-fdb9-8f68b239f9e4"
      },
      "source": [
        "# creating an array a of numbers 0 to 5(inclusive)\n",
        "a = np.arange(6)\n",
        "a"
      ],
      "execution_count": null,
      "outputs": [
        {
          "output_type": "execute_result",
          "data": {
            "text/plain": [
              "array([0, 1, 2, 3, 4, 5])"
            ]
          },
          "metadata": {},
          "execution_count": 57
        }
      ]
    },
    {
      "cell_type": "code",
      "metadata": {
        "trusted": true,
        "id": "rvmAcBz-Sf0t",
        "colab": {
          "base_uri": "https://localhost:8080/"
        },
        "outputId": "71de3842-4a79-4209-a43e-fbd629b2befe"
      },
      "source": [
        "# reshape a to an array b of dimentions 3x2\n",
        "b = a.reshape(2, 3)\n",
        "print('Before reshaping:\\n', a)\n",
        "print('\\nAfter reshaping:\\n', b)"
      ],
      "execution_count": null,
      "outputs": [
        {
          "output_type": "stream",
          "name": "stdout",
          "text": [
            "Before reshaping:\n",
            " [0 1 2 3 4 5]\n",
            "\n",
            "After reshaping:\n",
            " [[0 1 2]\n",
            " [3 4 5]]\n"
          ]
        }
      ]
    },
    {
      "cell_type": "code",
      "metadata": {
        "trusted": true,
        "id": "z2xhTTyVSf0w",
        "colab": {
          "base_uri": "https://localhost:8080/"
        },
        "outputId": "ad48c368-2f1b-40ab-bd71-21577627e380"
      },
      "source": [
        "from numpy.core.fromnumeric import reshape\n",
        "# reshape b to become a 1x6 array \n",
        "c = a.reshape(3,2)\n",
        "print(c)"
      ],
      "execution_count": null,
      "outputs": [
        {
          "output_type": "stream",
          "name": "stdout",
          "text": [
            "[[0 1]\n",
            " [2 3]\n",
            " [4 5]]\n"
          ]
        }
      ]
    }
  ]
}