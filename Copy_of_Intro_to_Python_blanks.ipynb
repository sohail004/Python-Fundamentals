{
  "nbformat": 4,
  "nbformat_minor": 0,
  "metadata": {
    "colab": {
      "name": "Copy of Intro_to_Python_blanks.ipynb",
      "provenance": [],
      "collapsed_sections": [],
      "include_colab_link": true
    },
    "kernelspec": {
      "name": "python3",
      "display_name": "Python 3",
      "language": "python"
    },
    "language_info": {
      "mimetype": "text/x-python",
      "nbconvert_exporter": "python",
      "name": "python",
      "file_extension": ".py",
      "version": "3.5.4",
      "pygments_lexer": "ipython3",
      "codemirror_mode": {
        "version": 3,
        "name": "ipython"
      }
    }
  },
  "cells": [
    {
      "cell_type": "markdown",
      "metadata": {
        "id": "view-in-github",
        "colab_type": "text"
      },
      "source": [
        "<a href=\"https://colab.research.google.com/github/sohail004/Python-for-Data-Science/blob/main/Copy_of_Intro_to_Python_blanks.ipynb\" target=\"_parent\"><img src=\"https://colab.research.google.com/assets/colab-badge.svg\" alt=\"Open In Colab\"/></a>"
      ]
    },
    {
      "cell_type": "markdown",
      "metadata": {
        "id": "CQT7CeNRk_aJ"
      },
      "source": [
        "Copyright 2021, Zaka AI, Inc. All Rights Reserved."
      ]
    },
    {
      "cell_type": "markdown",
      "metadata": {
        "id": "zxS5uRloJuS0"
      },
      "source": [
        "# Python Basics\n",
        "---\n",
        "\n",
        "**Objective:**\n",
        "\n",
        "In this exercise, you will be covering basics of python including syntax, operators, data types, control flows, and.\n",
        "\n",
        "[The Zen of Python, explained.](https://inventwithpython.com/blog/2018/08/17/the-zen-of-python-explained/)\n"
      ]
    },
    {
      "cell_type": "code",
      "metadata": {
        "id": "gOPURWHzMM1v",
        "trusted": true,
        "colab": {
          "base_uri": "https://localhost:8080/"
        },
        "outputId": "a4abe374-b757-4847-e7a9-1c3174b39fe7"
      },
      "source": [
        "#Display Zen of Python\n",
        "import this"
      ],
      "execution_count": null,
      "outputs": [
        {
          "output_type": "stream",
          "name": "stdout",
          "text": [
            "The Zen of Python, by Tim Peters\n",
            "\n",
            "Beautiful is better than ugly.\n",
            "Explicit is better than implicit.\n",
            "Simple is better than complex.\n",
            "Complex is better than complicated.\n",
            "Flat is better than nested.\n",
            "Sparse is better than dense.\n",
            "Readability counts.\n",
            "Special cases aren't special enough to break the rules.\n",
            "Although practicality beats purity.\n",
            "Errors should never pass silently.\n",
            "Unless explicitly silenced.\n",
            "In the face of ambiguity, refuse the temptation to guess.\n",
            "There should be one-- and preferably only one --obvious way to do it.\n",
            "Although that way may not be obvious at first unless you're Dutch.\n",
            "Now is better than never.\n",
            "Although never is often better than *right* now.\n",
            "If the implementation is hard to explain, it's a bad idea.\n",
            "If the implementation is easy to explain, it may be a good idea.\n",
            "Namespaces are one honking great idea -- let's do more of those!\n"
          ]
        }
      ]
    },
    {
      "cell_type": "markdown",
      "metadata": {
        "id": "OKvGelruSLWQ"
      },
      "source": [
        "## Python as a calculator"
      ]
    },
    {
      "cell_type": "code",
      "metadata": {
        "id": "wMyXCJz7SK8T",
        "trusted": true,
        "colab": {
          "base_uri": "https://localhost:8080/"
        },
        "outputId": "7962f13a-cebd-4970-9849-53cbdec43a9a"
      },
      "source": [
        "# power \n",
        "print(2**3 )\n",
        "\n",
        "# division\n",
        "print(42/15 )\n",
        "\n",
        "# modulo\n",
        "print( 8%3) \n",
        "\n",
        "# floor division\n",
        "print(42//15)"
      ],
      "execution_count": null,
      "outputs": [
        {
          "output_type": "stream",
          "name": "stdout",
          "text": [
            "8\n",
            "2.8\n",
            "2\n",
            "2\n"
          ]
        }
      ]
    },
    {
      "cell_type": "markdown",
      "metadata": {
        "id": "BmWbp3QCS1SE"
      },
      "source": [
        "## Using Variables"
      ]
    },
    {
      "cell_type": "code",
      "metadata": {
        "id": "CN9U-JJfMM13",
        "trusted": true,
        "colab": {
          "base_uri": "https://localhost:8080/"
        },
        "outputId": "ee9847a8-56ab-47bd-f979-2afb46ca9f2f"
      },
      "source": [
        "#we have a rectangle having the below width and height\n",
        "width= 10\n",
        "height= 10\n",
        "\n"
      ],
      "execution_count": null,
      "outputs": [
        {
          "output_type": "stream",
          "name": "stdout",
          "text": [
            "100\n"
          ]
        }
      ]
    },
    {
      "cell_type": "code",
      "metadata": {
        "id": "EcbZxh-xMM15",
        "trusted": true,
        "colab": {
          "base_uri": "https://localhost:8080/"
        },
        "outputId": "e0f42166-5298-4e0e-c539-9115ec76a28b"
      },
      "source": [
        "#print area of the rectangle\n",
        "print(width * height)"
      ],
      "execution_count": null,
      "outputs": [
        {
          "output_type": "stream",
          "name": "stdout",
          "text": [
            "100\n"
          ]
        }
      ]
    },
    {
      "cell_type": "code",
      "metadata": {
        "id": "ffOlk99MMM18",
        "trusted": true,
        "colab": {
          "base_uri": "https://localhost:8080/"
        },
        "outputId": "fe979396-38ee-4c6c-dea7-06016e93ce0b"
      },
      "source": [
        "# add 10 to height and print\n",
        "height += 5\n",
        "print(width * height)\n"
      ],
      "execution_count": null,
      "outputs": [
        {
          "output_type": "stream",
          "name": "stdout",
          "text": [
            "150\n"
          ]
        }
      ]
    },
    {
      "cell_type": "code",
      "metadata": {
        "id": "zsuusCztSJcs",
        "trusted": true,
        "colab": {
          "base_uri": "https://localhost:8080/"
        },
        "outputId": "f5b61faa-319b-442a-ac4d-89a5afa35be1"
      },
      "source": [
        "# print a check condition if the shape is a square\n",
        "print(height == width)"
      ],
      "execution_count": null,
      "outputs": [
        {
          "output_type": "stream",
          "name": "stdout",
          "text": [
            "False\n"
          ]
        }
      ]
    },
    {
      "cell_type": "markdown",
      "metadata": {
        "id": "aujMt78iTa4f"
      },
      "source": [
        "## Booleans\n"
      ]
    },
    {
      "cell_type": "code",
      "metadata": {
        "id": "zoHtazSeTRAT",
        "trusted": true,
        "colab": {
          "base_uri": "https://localhost:8080/"
        },
        "outputId": "6d96a503-8da1-4427-ee80-05e14035a2f0"
      },
      "source": [
        "True & False"
      ],
      "execution_count": null,
      "outputs": [
        {
          "output_type": "execute_result",
          "data": {
            "text/plain": [
              "False"
            ]
          },
          "metadata": {},
          "execution_count": 49
        }
      ]
    },
    {
      "cell_type": "code",
      "metadata": {
        "id": "SnfR1x-7TO5H",
        "trusted": true,
        "colab": {
          "base_uri": "https://localhost:8080/"
        },
        "outputId": "3e6302a6-dd10-442f-d998-f1bfc1565135"
      },
      "source": [
        "True | False "
      ],
      "execution_count": null,
      "outputs": [
        {
          "output_type": "execute_result",
          "data": {
            "text/plain": [
              "True"
            ]
          },
          "metadata": {},
          "execution_count": 50
        }
      ]
    },
    {
      "cell_type": "code",
      "metadata": {
        "id": "PwAvmt3dTZo_",
        "trusted": true,
        "colab": {
          "base_uri": "https://localhost:8080/"
        },
        "outputId": "ef2d4f16-e746-4b1a-b29c-c0cca3091e99"
      },
      "source": [
        "z= True \n",
        "z2 = False \n",
        "\n",
        "z &= z2 # same as z = z & z2\n",
        "print(z)"
      ],
      "execution_count": null,
      "outputs": [
        {
          "output_type": "stream",
          "name": "stdout",
          "text": [
            "False\n"
          ]
        }
      ]
    },
    {
      "cell_type": "markdown",
      "metadata": {
        "id": "V8OQS7NfTsUk"
      },
      "source": [
        "## Strings"
      ]
    },
    {
      "cell_type": "code",
      "metadata": {
        "id": "t6dOf0l0TtTi",
        "trusted": true,
        "colab": {
          "base_uri": "https://localhost:8080/"
        },
        "outputId": "c0cfb940-c60a-4f54-c411-3517520ab9a2"
      },
      "source": [
        "print (\"I'm starting an AI course soon!\")"
      ],
      "execution_count": null,
      "outputs": [
        {
          "output_type": "stream",
          "name": "stdout",
          "text": [
            "I'm starting an AI course soon!\n"
          ]
        }
      ]
    },
    {
      "cell_type": "code",
      "metadata": {
        "id": "L5Dv7LGBMM2L",
        "trusted": true,
        "outputId": "fc3ffda9-d55b-41e7-fe43-3634eafaf08a",
        "colab": {
          "base_uri": "https://localhost:8080/"
        }
      },
      "source": [
        "print (\"\"\"This is a \n",
        "multiline string\"\"\") \n",
        "# OR\n",
        "print(\"\\nfirst line \\n second line\")"
      ],
      "execution_count": null,
      "outputs": [
        {
          "output_type": "stream",
          "name": "stdout",
          "text": [
            "This is a \n",
            "multiline string\n",
            "\n",
            "first line \n",
            " second line\n"
          ]
        }
      ]
    },
    {
      "cell_type": "code",
      "metadata": {
        "id": "czaYJbgBMM2N",
        "trusted": true,
        "colab": {
          "base_uri": "https://localhost:8080/"
        },
        "outputId": "e312c98f-73fc-477a-a535-e80a11379790"
      },
      "source": [
        "# print combination of two strings\n",
        "print(\"I am starting\"+\"am AI course soon\")"
      ],
      "execution_count": null,
      "outputs": [
        {
          "output_type": "stream",
          "name": "stdout",
          "text": [
            "I am startingam AI course soon\n"
          ]
        }
      ]
    },
    {
      "cell_type": "code",
      "metadata": {
        "id": "o98w_nl3UMCK",
        "trusted": true,
        "colab": {
          "base_uri": "https://localhost:8080/"
        },
        "outputId": "0d9ad4fb-770d-4152-f5e4-1172a5496a70"
      },
      "source": [
        "word=\"University\"\n",
        "      # print first letter of word\n",
        "print(  word[0])"
      ],
      "execution_count": null,
      "outputs": [
        {
          "output_type": "stream",
          "name": "stdout",
          "text": [
            "U\n"
          ]
        }
      ]
    },
    {
      "cell_type": "code",
      "metadata": {
        "id": "lPEJCYCfMM2S",
        "trusted": true,
        "colab": {
          "base_uri": "https://localhost:8080/"
        },
        "outputId": "594f8714-23dc-4e29-d6c7-9af942536faa"
      },
      "source": [
        "# print last letter of word\n",
        "print(word[-1])"
      ],
      "execution_count": null,
      "outputs": [
        {
          "output_type": "stream",
          "name": "stdout",
          "text": [
            "y\n"
          ]
        }
      ]
    },
    {
      "cell_type": "markdown",
      "metadata": {
        "id": "eGDPzT-5UjNF"
      },
      "source": [
        "## Type casting"
      ]
    },
    {
      "cell_type": "code",
      "metadata": {
        "id": "aEeW1td2UhSw",
        "trusted": true,
        "colab": {
          "base_uri": "https://localhost:8080/"
        },
        "outputId": "29a0a4c4-3480-49c1-d6d3-1d1c7bb8c460"
      },
      "source": [
        "# It is often useful to change the type of an object\n",
        "a=2\n",
        "b=3\n",
        "print (a+b)\n",
        "print ('Value of b: ' + str(b))\n",
        "b= 4\n",
        "print(a + b) "
      ],
      "execution_count": null,
      "outputs": [
        {
          "output_type": "stream",
          "name": "stdout",
          "text": [
            "5\n",
            "Value of b: 3\n",
            "6\n"
          ]
        }
      ]
    },
    {
      "cell_type": "code",
      "metadata": {
        "id": "iFtiybeXIM7i",
        "trusted": true
      },
      "source": [
        "# what if b was not a string\n",
        "print ('Value of b: ' + str(b))"
      ],
      "execution_count": null,
      "outputs": []
    },
    {
      "cell_type": "markdown",
      "metadata": {
        "id": "hCQPouf9UxrA"
      },
      "source": [
        "## Lists\n",
        "Lists can be used to group together other items. In python (unlike other languages), lists can contain items of different types."
      ]
    },
    {
      "cell_type": "code",
      "metadata": {
        "id": "jQxypyq7MM2u",
        "trusted": true
      },
      "source": [
        "nums = [1,4,9,16,25]\n",
        "\n",
        "# print the first element in the list nums\n",
        "print(nums[0])"
      ],
      "execution_count": null,
      "outputs": []
    },
    {
      "cell_type": "code",
      "metadata": {
        "id": "TkREHX76MM2w",
        "trusted": true
      },
      "source": [
        "# print from nums elements ranging from the third element(inclusive) till the end\n",
        "print(nums[2:3])"
      ],
      "execution_count": null,
      "outputs": []
    },
    {
      "cell_type": "code",
      "metadata": {
        "id": "pABXREmXMM2y",
        "trusted": true
      },
      "source": [
        "# print elements at index 2(inclusive) to 4(exclusive)\n",
        "print(nums[:-1])"
      ],
      "execution_count": null,
      "outputs": []
    },
    {
      "cell_type": "code",
      "metadata": {
        "id": "eQ92o8OXMM20",
        "trusted": true
      },
      "source": [
        "# print length of the list\n",
        "print(len(nums))"
      ],
      "execution_count": null,
      "outputs": []
    },
    {
      "cell_type": "markdown",
      "metadata": {
        "id": "kHK7LckoMM2U"
      },
      "source": [
        "## Dictionaries"
      ]
    },
    {
      "cell_type": "markdown",
      "metadata": {
        "id": "kKYGJrShMM2V"
      },
      "source": [
        "A dictionary is a collection which is unordered, changeable and indexed. In Python dictionaries are written with curly brackets, and they have keys and values."
      ]
    },
    {
      "cell_type": "code",
      "metadata": {
        "id": "fxi9OKOXMM2V",
        "trusted": true
      },
      "source": [
        "info ={\n",
        "    'Name': 'Jean',\n",
        "    'Address': 'Beirut',\n",
        "    'Age': 23, \n",
        "    'Destination': 'AI Galaxy',\n",
        "    'Year': 2020\n",
        "}\n",
        "\n",
        "print(info)"
      ],
      "execution_count": null,
      "outputs": []
    },
    {
      "cell_type": "code",
      "metadata": {
        "id": "35xTdJxUMM2Y",
        "trusted": true
      },
      "source": [
        "# To access dictionary elements, you can use the familiar square brackets along with the key to obtain its value\n",
        "info[\"Year\"] = 2022\n",
        "print (info['Name'],' works in', info['Year'])"
      ],
      "execution_count": null,
      "outputs": []
    },
    {
      "cell_type": "code",
      "metadata": {
        "id": "wTqiE09vMM2a",
        "trusted": true
      },
      "source": [
        "# You can change the value of a specific item by referring to its key name.\n",
        "info['Year'] = 2021\n",
        "info['Address'] = 'Jbeil'\n",
        "\n",
        "print(info)"
      ],
      "execution_count": null,
      "outputs": []
    },
    {
      "cell_type": "markdown",
      "metadata": {
        "id": "YKtAiQqyVCC5"
      },
      "source": [
        "## Data Types\n",
        "**Mutable vs Immutable:** in Python, some objects can be changed without changing their identity(mutable) and others cannot(immutable).\n",
        "\n",
        "Some immutable objects (i.e. objects that can't be modified after creation):\n",
        "*   int\n",
        "*   float\n",
        "*   string\n",
        "*   boolean\n",
        "\n",
        "\n",
        "Some mutable objects:\n",
        "*   list\n",
        "*   dictionary\n",
        "\n",
        "\n",
        "This fact if goes unnoticed can result in some nasty bugs (errors) when defining functions, and therefore is important to understand. \n",
        "\n",
        "NOTE: Mutable objects are great to use when you need to change the size of the object, example list, dict etc.. Immutables are used when you need to ensure that the object you made will always stay the same.\n",
        "\n",
        "[To read more about this.](https://medium.com/@meghamohan/mutable-and-immutable-side-of-python-c2145cf72747)"
      ]
    },
    {
      "cell_type": "code",
      "metadata": {
        "id": "7d7WD0cgMM22",
        "trusted": true
      },
      "source": [
        "# INT is IMMUTABLE\n",
        "x = 1\n",
        "y = 2\n",
        "z = 3\n",
        "print(id(x))\n",
        "#w = x + y \n",
        "\n",
        "x = y + z\n",
        "\n",
        "print(x)\n",
        "print(y)\n",
        "\n",
        "# The id() function returns identity of the object. \n",
        "# This is an integer which is unique for the given object and remains constant during its lifetime.\n",
        "print(id(x))\n",
        "print(id(y))\n",
        "print(id(z))\n",
        "print(id(w))"
      ],
      "execution_count": null,
      "outputs": []
    },
    {
      "cell_type": "markdown",
      "metadata": {
        "id": "d64w_1m6MM24"
      },
      "source": [
        "id(x) == id(y)\n",
        "\n",
        "id(y) == id(3)"
      ]
    },
    {
      "cell_type": "code",
      "metadata": {
        "id": "DDAqeOpUWZye",
        "trusted": true
      },
      "source": [
        "x = x + 1\n",
        "print(x)\n",
        "print(y)\n",
        "print(id(x))\n",
        "print(id(y))"
      ],
      "execution_count": null,
      "outputs": []
    },
    {
      "cell_type": "markdown",
      "metadata": {
        "id": "bL8SZ_hxMM28"
      },
      "source": [
        "id(x) != id(y)\n",
        "\n",
        "id(x) != id(3)"
      ]
    },
    {
      "cell_type": "code",
      "metadata": {
        "id": "SEztlMkgWoGO",
        "trusted": true
      },
      "source": [
        "# LIST is MUTABLE\n",
        "m = list([1, 2, 4])\n",
        "\n",
        "n =  m\n",
        "\n",
        "print(m)\n",
        "print(n)\n",
        "\n",
        "print(id(m))\n",
        "print(id(n))"
      ],
      "execution_count": null,
      "outputs": []
    },
    {
      "cell_type": "markdown",
      "metadata": {
        "id": "mnSzPSXfMM3A"
      },
      "source": [
        "id(m) == id(n)"
      ]
    },
    {
      "cell_type": "code",
      "metadata": {
        "id": "3Ov_C9dMWoJV",
        "trusted": true
      },
      "source": [
        "m.pop()\n",
        "\n",
        "print(m)\n",
        "print(n)\n",
        "\n",
        "print(id(m))\n",
        "print(id(n))"
      ],
      "execution_count": null,
      "outputs": []
    },
    {
      "cell_type": "markdown",
      "metadata": {
        "id": "dz1HNbxpMM3C"
      },
      "source": [
        "id(m) == id(n)"
      ]
    },
    {
      "cell_type": "markdown",
      "metadata": {
        "id": "LBH2h_fJMM3D"
      },
      "source": [
        "NOTE: If a mutable object is called by reference in a function, it can change the original variable itself. Hence to avoid this, the original variable needs to be copied to another variable. Immutable objects can be called by reference because its value cannot be changed anyways."
      ]
    },
    {
      "cell_type": "markdown",
      "metadata": {
        "id": "mxlCguIFIrkW"
      },
      "source": [
        "Notice the following error:"
      ]
    },
    {
      "cell_type": "code",
      "metadata": {
        "id": "fWsAo0xpIrTA",
        "trusted": true
      },
      "source": [
        "word = \"university\" \n",
        " "
      ],
      "execution_count": null,
      "outputs": []
    },
    {
      "cell_type": "markdown",
      "metadata": {
        "id": "BZ2HhnqcVltB"
      },
      "source": [
        "But it works for lists, for example:"
      ]
    },
    {
      "cell_type": "code",
      "metadata": {
        "id": "jwQRQ1Y6ViND",
        "trusted": true
      },
      "source": [
        "squares=[1,4,9,16,25]\n",
        "squares[-2]=100\n",
        "print (squares)"
      ],
      "execution_count": null,
      "outputs": []
    },
    {
      "cell_type": "markdown",
      "metadata": {
        "id": "JLlVk1oHZiPw"
      },
      "source": [
        "Examples of boolean operations:"
      ]
    },
    {
      "cell_type": "code",
      "metadata": {
        "id": "jLNfAAgiZj-5",
        "trusted": true
      },
      "source": [
        "x=2\n",
        "y=3\n",
        "\n",
        "#The is operator compares the identity of two objects.\n",
        "print(x is y)"
      ],
      "execution_count": null,
      "outputs": []
    },
    {
      "cell_type": "code",
      "metadata": {
        "id": "RwHrg_CjZmJj",
        "trusted": true
      },
      "source": [
        "x=2\n",
        "y=5\n",
        "#check if x is not equal to y and print\n",
        "print(x != y)\n"
      ],
      "execution_count": null,
      "outputs": []
    },
    {
      "cell_type": "code",
      "metadata": {
        "id": "t2co-8nlZqr2",
        "trusted": true
      },
      "source": [
        "x=2\n",
        "y=3\n",
        "#x OR y and print result\n",
        "print(x | y)"
      ],
      "execution_count": null,
      "outputs": []
    },
    {
      "cell_type": "code",
      "metadata": {
        "id": "qk0pX31qZtoy",
        "trusted": true
      },
      "source": [
        "x=2\n",
        "y=3\n",
        "#x AND y and print result\n",
        "print(x & y)"
      ],
      "execution_count": null,
      "outputs": []
    },
    {
      "cell_type": "markdown",
      "metadata": {
        "id": "IeCWYzqVYLQ9"
      },
      "source": [
        "## Control Flows"
      ]
    },
    {
      "cell_type": "markdown",
      "metadata": {
        "id": "-bcIp3LhMM3R"
      },
      "source": [
        "### If statements"
      ]
    },
    {
      "cell_type": "code",
      "metadata": {
        "id": "759AWl8zMM3R",
        "trusted": true
      },
      "source": [
        "#Read an integer from the user and save it in variable x\n",
        "x = int(input(\"please enter any integer\"))\n",
        "\n",
        "\n",
        "# print if x is negative, zero, or positive\n",
        "if(x<0):\n",
        "  print(\"the value is negative\")\n",
        "elif(x==0):\n",
        "  print(\"the value is zero\")\n",
        "else:\n",
        "  print(\"the value is postitve\")"
      ],
      "execution_count": null,
      "outputs": []
    },
    {
      "cell_type": "markdown",
      "metadata": {
        "id": "Wzyix94kMM3V"
      },
      "source": [
        "### While Loop"
      ]
    },
    {
      "cell_type": "code",
      "metadata": {
        "id": "TgenwHMsMM3W",
        "trusted": true
      },
      "source": [
        "# Adjust the previous code so that you keep on reading values from the user until he/she prints a positive integer\n",
        "\n",
        "#Read a positive integer from the user and save it in variable x\n",
        "x=int(input(\"Please enter a positive integer:\"))\n",
        "\n",
        "\n",
        "#print if x is negative, zero, or postitive\n",
        "while(x < 0):\n",
        "  print(\"the value is negative\")\n",
        "  x=int(input(\"please enter the positive value\"))\n",
        "print(\"great you have inter a positive number\")\n"
      ],
      "execution_count": null,
      "outputs": []
    },
    {
      "cell_type": "code",
      "metadata": {
        "id": "gamgF5CeV3b6",
        "trusted": true
      },
      "source": [
        "# write a loop that prints Fibonacci series starting at [1,2] up to 100\n",
        "# expected output: [1, 2, 3, 5, 8, 13, 21, 34, 55, 89]\n",
        "\n",
        "# NOTE: A current Fibonacci value F(n) = F(n-1) + F(n-2)\n",
        "\n",
        "num=[1,2]\n",
        "\n",
        "while ((num[-1] + num[-2]) < 100):\n",
        "  fib_num = num[-1]+num[-2]\n",
        "  num =  num + [fib_num]\n",
        "nnem=[num]\n",
        "\n",
        "print(nnem)"
      ],
      "execution_count": null,
      "outputs": []
    },
    {
      "cell_type": "code",
      "source": [
        ""
      ],
      "metadata": {
        "id": "6zqTVsFsRM5D"
      },
      "execution_count": null,
      "outputs": []
    },
    {
      "cell_type": "markdown",
      "metadata": {
        "id": "crhEfkXhYZAg"
      },
      "source": [
        "**Notice:**\n",
        "\n",
        "\n",
        "*   The while loop executes as long as the condition remains true.\n",
        "*   The body of the loop is indented. Indentation is how python groups statements. You can use tab or spaces for indentation, but you have to be consistent with the number of spaces. It is good practice to use exactly 4 spaces(or a tab).\n",
        "\n"
      ]
    },
    {
      "cell_type": "markdown",
      "metadata": {
        "id": "5eZl1zQFYsH8"
      },
      "source": [
        "### For loop\n",
        "\n",
        "The for loop iterates over the items of a list (or the characters of a string) in the order that they appear. In other languages, for loops always have the form of\n",
        "\n",
        "     for (i= 1 to 10) --> loop iterator\n",
        "           perform action"
      ]
    },
    {
      "cell_type": "code",
      "metadata": {
        "id": "d7MaDzn7Yrvh",
        "trusted": true
      },
      "source": [
        "#Measure some strings\n",
        "words=['cat','window','university']\n",
        "\n",
        "# iterate through list of words and print the length of each\n",
        "for f in words:\n",
        "    print (f, len(f)) # what are we doing here?"
      ],
      "execution_count": null,
      "outputs": []
    },
    {
      "cell_type": "code",
      "metadata": {
        "id": "zuvqV_tyYryg",
        "trusted": true
      },
      "source": [
        "# If you want to iterate over numbers use the range function\n",
        "a=['I','love','Python','language','!']\n",
        "\n",
        "for i in range(len(a)):\n",
        "    print (i, a[i])"
      ],
      "execution_count": null,
      "outputs": []
    },
    {
      "cell_type": "markdown",
      "metadata": {
        "id": "e80mcJbIMM2c"
      },
      "source": [
        "You can loop through a dictionary by using a for loop. When looping through a dictionary, the return value are the keys of the dictionary, but there are methods to return the values as well."
      ]
    },
    {
      "cell_type": "code",
      "metadata": {
        "id": "hfB644aKMM2d",
        "trusted": true
      },
      "source": [
        "#print keys in the dictionary\n",
        "info ={\n",
        "    'Name': 'Jean',\n",
        "    'Address': 'Beirut',\n",
        "    'Age': 23, \n",
        "    'Destination': 'AI Galaxy',\n",
        "    'Year': 2020\n",
        "}\n",
        "for x in info:\n",
        "  print(x)"
      ],
      "execution_count": null,
      "outputs": []
    },
    {
      "cell_type": "code",
      "metadata": {
        "id": "YvY4zxSoMM2h",
        "trusted": true
      },
      "source": [
        "# print values in the dictionary\n",
        "for x in info.values():\n",
        "  print(x)"
      ],
      "execution_count": null,
      "outputs": []
    },
    {
      "cell_type": "code",
      "metadata": {
        "id": "jbhTlvgCMM2m",
        "trusted": true
      },
      "source": [
        "# print keys and values adjacent to each other in the dictionary\n",
        "for x, y in info.items():\n",
        "  print(\"Key is: \" + x, \" Value is: \" + str(y))"
      ],
      "execution_count": null,
      "outputs": []
    },
    {
      "cell_type": "markdown",
      "metadata": {
        "id": "i_FaPu7TZJ94"
      },
      "source": [
        "## Functions"
      ]
    },
    {
      "cell_type": "code",
      "metadata": {
        "id": "71FP-KuKZLLe",
        "trusted": true
      },
      "source": [
        "# Write a function called \"equal\" that takes two inputs x and y\n",
        "# and prints True if they are equal and False otherwise\n",
        "\n",
        "def equal(x,y):\n",
        "  return(x==y)\n",
        "\n",
        "\n",
        "# Test your function\n",
        "print (equal(2,7))"
      ],
      "execution_count": null,
      "outputs": []
    },
    {
      "cell_type": "code",
      "metadata": {
        "trusted": true,
        "id": "zwvq_2fnFWaI"
      },
      "source": [
        "print(equal(3,4))"
      ],
      "execution_count": null,
      "outputs": []
    }
  ]
}